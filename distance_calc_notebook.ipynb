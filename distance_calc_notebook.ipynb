{
 "cells": [
  {
   "cell_type": "code",
   "execution_count": 2,
   "metadata": {},
   "outputs": [],
   "source": [
    "from distance_utils import dms2dec\n",
    "import geopy"
   ]
  },
  {
   "cell_type": "code",
   "execution_count": 3,
   "metadata": {},
   "outputs": [],
   "source": [
    "coord_lat = '''51*36'9.18\"N'''\n",
    "lat = dms2dec(coord_lat)"
   ]
  },
  {
   "cell_type": "code",
   "execution_count": 19,
   "metadata": {},
   "outputs": [
    {
     "data": {
      "text/plain": [
       "(53.323055555555555, 2.5741666666666663)"
      ]
     },
     "execution_count": 19,
     "metadata": {},
     "output_type": "execute_result"
    }
   ],
   "source": [
    "# Inde AT - 23AT \n",
    "coord_lat = '''53*19'23\"N'''\n",
    "coord_lon = '''2*34'27\"E'''\n",
    "lat_23at = dms2dec(coord_lat)\n",
    "lon_23at = dms2dec(coord_lon)\n",
    "loc_23at = (lat_23at, lon_23at) \n",
    "loc_23at"
   ]
  },
  {
   "cell_type": "code",
   "execution_count": 17,
   "metadata": {},
   "outputs": [
    {
     "data": {
      "text/plain": [
       "(53.055277777777775, 2.2347222222222225)"
      ]
     },
     "execution_count": 17,
     "metadata": {},
     "output_type": "execute_result"
    }
   ],
   "source": [
    "# Leman AX - 27AP\n",
    "coord_lat = '''53*03'19\"N'''\n",
    "coord_lon = '''2*14'5\"E'''\n",
    "lat_27ap = dms2dec(coord_lat)\n",
    "lon_27ap = dms2dec(coord_lon)\n",
    "loc_27ap = (lat_27ap, lon_27ap)\n",
    "loc_27ap"
   ]
  },
  {
   "cell_type": "code",
   "execution_count": 11,
   "metadata": {},
   "outputs": [],
   "source": [
    "# Leman BD - 27BT\n",
    "coord_lat = '''53*03'03\"N'''\n",
    "coord_lon = '''2*17'5\"E'''\n",
    "lat_27bt = dms2dec(coord_lat)\n",
    "lon_27bt = dms2dec(coord_lon)\n",
    "loc_27bt = (lat_27bt, lon_27bt)"
   ]
  },
  {
   "cell_type": "code",
   "execution_count": 18,
   "metadata": {},
   "outputs": [],
   "source": [
    "# Weather location in Geotrack:\n",
    "loc_LemanWeather = (53.054, 2.234)"
   ]
  },
  {
   "cell_type": "code",
   "execution_count": 12,
   "metadata": {},
   "outputs": [],
   "source": [
    "# Distances:\n",
    "# (1) Between 27BT og 27AP:\n",
    "from geopy import distance"
   ]
  },
  {
   "cell_type": "code",
   "execution_count": 13,
   "metadata": {},
   "outputs": [
    {
     "name": "stdout",
     "output_type": "stream",
     "text": [
      "3.389031855444568\n"
     ]
    }
   ],
   "source": [
    "print(distance.distance(loc_27bt, loc_27ap).km)"
   ]
  },
  {
   "cell_type": "code",
   "execution_count": 14,
   "metadata": {},
   "outputs": [
    {
     "name": "stdout",
     "output_type": "stream",
     "text": [
      "35.9468820895825\n"
     ]
    }
   ],
   "source": [
    "# (2) Between 27BT and 23AT:\n",
    "print(distance.distance(loc_27bt, loc_23at).km)"
   ]
  },
  {
   "cell_type": "code",
   "execution_count": 16,
   "metadata": {},
   "outputs": [
    {
     "name": "stdout",
     "output_type": "stream",
     "text": [
      "37.455420018475515\n"
     ]
    }
   ],
   "source": [
    "# (2) Between 27AP and 23AT:\n",
    "print(distance.distance(loc_27ap, loc_23at).km)"
   ]
  },
  {
   "cell_type": "code",
   "execution_count": 20,
   "metadata": {},
   "outputs": [
    {
     "name": "stdout",
     "output_type": "stream",
     "text": [
      "37.598037888055295\n"
     ]
    }
   ],
   "source": [
    "# (2) Between weather and 23AT:\n",
    "print(distance.distance(loc_LemanWeather, loc_23at).km)"
   ]
  },
  {
   "cell_type": "code",
   "execution_count": null,
   "metadata": {},
   "outputs": [],
   "source": []
  }
 ],
 "metadata": {
  "kernelspec": {
   "display_name": "Python 3",
   "language": "python",
   "name": "python3"
  },
  "language_info": {
   "codemirror_mode": {
    "name": "ipython",
    "version": 3
   },
   "file_extension": ".py",
   "mimetype": "text/x-python",
   "name": "python",
   "nbconvert_exporter": "python",
   "pygments_lexer": "ipython3",
   "version": "3.10.5"
  },
  "orig_nbformat": 4
 },
 "nbformat": 4,
 "nbformat_minor": 2
}
